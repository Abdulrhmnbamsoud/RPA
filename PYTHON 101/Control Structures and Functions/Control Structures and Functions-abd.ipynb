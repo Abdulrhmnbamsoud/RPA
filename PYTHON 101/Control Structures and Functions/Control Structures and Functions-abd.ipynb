{
 "cells": [
  {
   "cell_type": "markdown",
   "id": "f9b38b25-b222-4486-8ba7-7f3d23f77397",
   "metadata": {},
   "source": [
    "# Control Structures and Functions\t\n",
    "\n",
    "[notion](https://www.notion.so/Python-BuiltIn-Functions-Keywords-12541d33cda980b1970adb69d9ff1a6c?pvs=4) |\n",
    "\n",
    "Created by Abdulwahab Alanazi\n",
    "\n",
    "[LinkedIn](http://linkedin.com/in/abdulwahabdev) | [GitHub](https://github.com/AbdulwahabDev)\n"
   ]
  },
  {
   "cell_type": "code",
   "execution_count": null,
   "id": "bbe15504-3f57-42ad-8dfe-927e95b51760",
   "metadata": {},
   "outputs": [],
   "source": []
  }
 ],
 "metadata": {
  "kernelspec": {
   "display_name": "Python 3 (ipykernel)",
   "language": "python",
   "name": "python3"
  },
  "language_info": {
   "codemirror_mode": {
    "name": "ipython",
    "version": 3
   },
   "file_extension": ".py",
   "mimetype": "text/x-python",
   "name": "python",
   "nbconvert_exporter": "python",
   "pygments_lexer": "ipython3",
   "version": "3.10.14"
  }
 },
 "nbformat": 4,
 "nbformat_minor": 5
}
